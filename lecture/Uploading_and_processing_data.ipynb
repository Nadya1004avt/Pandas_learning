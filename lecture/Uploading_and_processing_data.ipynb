{
 "cells": [
  {
   "cell_type": "markdown",
   "id": "1ccdcd32",
   "metadata": {},
   "source": [
    "**Загружаем и обрабатываем данные**"
   ]
  },
  {
   "cell_type": "code",
   "execution_count": 6,
   "id": "855bc9e4",
   "metadata": {},
   "outputs": [],
   "source": [
    "import pandas as pd"
   ]
  },
  {
   "cell_type": "markdown",
   "id": "eff02ddc",
   "metadata": {},
   "source": [
    "Загрузите этот файл в датафрейм Pandas (с именем df). Однако, будьте осторожны - перед отправкой кода на проверку посмотрите на свой результат и убедитесь, что:\n",
    "Каждая переменная считалась в отдельный столбец\n",
    "Все столбцы названы верно\n",
    "Нет лишних строк"
   ]
  },
  {
   "cell_type": "code",
   "execution_count": 7,
   "id": "591f7328",
   "metadata": {},
   "outputs": [
    {
     "data": {
      "text/html": [
       "<div>\n",
       "<style scoped>\n",
       "    .dataframe tbody tr th:only-of-type {\n",
       "        vertical-align: middle;\n",
       "    }\n",
       "\n",
       "    .dataframe tbody tr th {\n",
       "        vertical-align: top;\n",
       "    }\n",
       "\n",
       "    .dataframe thead th {\n",
       "        text-align: right;\n",
       "    }\n",
       "</style>\n",
       "<table border=\"1\" class=\"dataframe\">\n",
       "  <thead>\n",
       "    <tr style=\"text-align: right;\">\n",
       "      <th></th>\n",
       "      <th>id</th>\n",
       "      <th>username</th>\n",
       "      <th>date_joined</th>\n",
       "    </tr>\n",
       "  </thead>\n",
       "  <tbody>\n",
       "    <tr>\n",
       "      <th>0</th>\n",
       "      <td>416</td>\n",
       "      <td>nsosabisfsobm</td>\n",
       "      <td>2022-01-02 12:22:43</td>\n",
       "    </tr>\n",
       "    <tr>\n",
       "      <th>1</th>\n",
       "      <td>43</td>\n",
       "      <td>NbabnnbTona</td>\n",
       "      <td>2021-07-01 09:11:42</td>\n",
       "    </tr>\n",
       "    <tr>\n",
       "      <th>2</th>\n",
       "      <td>50</td>\n",
       "      <td>jbdn</td>\n",
       "      <td>2021-08-04 09:01:56</td>\n",
       "    </tr>\n",
       "    <tr>\n",
       "      <th>3</th>\n",
       "      <td>249</td>\n",
       "      <td>Kbaoxsnb</td>\n",
       "      <td>2021-11-27 07:03:35</td>\n",
       "    </tr>\n",
       "    <tr>\n",
       "      <th>4</th>\n",
       "      <td>77</td>\n",
       "      <td>bxakbasmo$$$</td>\n",
       "      <td>2021-11-09 14:31:46</td>\n",
       "    </tr>\n",
       "    <tr>\n",
       "      <th>...</th>\n",
       "      <td>...</td>\n",
       "      <td>...</td>\n",
       "      <td>...</td>\n",
       "    </tr>\n",
       "    <tr>\n",
       "      <th>95</th>\n",
       "      <td>946</td>\n",
       "      <td>Mbbn$xb$eo</td>\n",
       "      <td>2022-01-29 18:04:23</td>\n",
       "    </tr>\n",
       "    <tr>\n",
       "      <th>96</th>\n",
       "      <td>947</td>\n",
       "      <td>NaN</td>\n",
       "      <td>2022-01-29 18:31:26</td>\n",
       "    </tr>\n",
       "    <tr>\n",
       "      <th>97</th>\n",
       "      <td>1050</td>\n",
       "      <td>nsosabndsi</td>\n",
       "      <td>2022-02-01 21:02:59</td>\n",
       "    </tr>\n",
       "    <tr>\n",
       "      <th>98</th>\n",
       "      <td>1076</td>\n",
       "      <td>SbsdSaobdox</td>\n",
       "      <td>2022-02-02 19:31:21</td>\n",
       "    </tr>\n",
       "    <tr>\n",
       "      <th>99</th>\n",
       "      <td>1090</td>\n",
       "      <td>Addb</td>\n",
       "      <td>2022-02-03 13:14:15</td>\n",
       "    </tr>\n",
       "  </tbody>\n",
       "</table>\n",
       "<p>100 rows × 3 columns</p>\n",
       "</div>"
      ],
      "text/plain": [
       "      id       username          date_joined\n",
       "0    416  nsosabisfsobm  2022-01-02 12:22:43\n",
       "1     43    NbabnnbTona  2021-07-01 09:11:42\n",
       "2     50           jbdn  2021-08-04 09:01:56\n",
       "3    249       Kbaoxsnb  2021-11-27 07:03:35\n",
       "4     77   bxakbasmo$$$  2021-11-09 14:31:46\n",
       "..   ...            ...                  ...\n",
       "95   946     Mbbn$xb$eo  2022-01-29 18:04:23\n",
       "96   947            NaN  2022-01-29 18:31:26\n",
       "97  1050     nsosabndsi  2022-02-01 21:02:59\n",
       "98  1076    SbsdSaobdox  2022-02-02 19:31:21\n",
       "99  1090           Addb  2022-02-03 13:14:15\n",
       "\n",
       "[100 rows x 3 columns]"
      ]
     },
     "execution_count": 7,
     "metadata": {},
     "output_type": "execute_result"
    }
   ],
   "source": [
    "df = pd.read_csv('../data/itresume-users-pandas.csv', sep=';', encoding='1251', skiprows=1)\n",
    "\n",
    "df"
   ]
  },
  {
   "cell_type": "code",
   "execution_count": 8,
   "id": "88456759",
   "metadata": {},
   "outputs": [
    {
     "data": {
      "text/plain": [
       "[0,\n",
       " 1,\n",
       " 2,\n",
       " 3,\n",
       " 4,\n",
       " 5,\n",
       " 6,\n",
       " 7,\n",
       " 8,\n",
       " 9,\n",
       " 10,\n",
       " 11,\n",
       " 12,\n",
       " 13,\n",
       " 14,\n",
       " 15,\n",
       " 16,\n",
       " 17,\n",
       " 18,\n",
       " 19,\n",
       " 20,\n",
       " 21,\n",
       " 22,\n",
       " 23,\n",
       " 24,\n",
       " 25,\n",
       " 26,\n",
       " 27,\n",
       " 28,\n",
       " 29,\n",
       " 30,\n",
       " 31,\n",
       " 32,\n",
       " 33,\n",
       " 34,\n",
       " 35,\n",
       " 36,\n",
       " 37,\n",
       " 38,\n",
       " 39,\n",
       " 40,\n",
       " 41,\n",
       " 42,\n",
       " 43,\n",
       " 44,\n",
       " 45,\n",
       " 46,\n",
       " 47,\n",
       " 48,\n",
       " 49,\n",
       " 50,\n",
       " 51,\n",
       " 52,\n",
       " 53,\n",
       " 54,\n",
       " 55,\n",
       " 56,\n",
       " 57,\n",
       " 58,\n",
       " 59,\n",
       " 60,\n",
       " 61,\n",
       " 62,\n",
       " 63,\n",
       " 64,\n",
       " 65,\n",
       " 66,\n",
       " 67,\n",
       " 68,\n",
       " 69,\n",
       " 70,\n",
       " 71,\n",
       " 72,\n",
       " 73,\n",
       " 74,\n",
       " 75,\n",
       " 76,\n",
       " 77,\n",
       " 78,\n",
       " 79,\n",
       " 80,\n",
       " 81,\n",
       " 82,\n",
       " 83,\n",
       " 84,\n",
       " 85,\n",
       " 86,\n",
       " 87,\n",
       " 88,\n",
       " 89,\n",
       " 90,\n",
       " 91,\n",
       " 92,\n",
       " 93,\n",
       " 94,\n",
       " 95,\n",
       " 96,\n",
       " 97,\n",
       " 98,\n",
       " 99]"
      ]
     },
     "execution_count": 8,
     "metadata": {},
     "output_type": "execute_result"
    }
   ],
   "source": [
    "df.index.tolist()"
   ]
  },
  {
   "cell_type": "code",
   "execution_count": 9,
   "id": "6cc249a3",
   "metadata": {},
   "outputs": [
    {
     "data": {
      "text/plain": [
       "['id', 'username', 'date_joined']"
      ]
     },
     "execution_count": 9,
     "metadata": {},
     "output_type": "execute_result"
    }
   ],
   "source": [
    "df.columns.tolist()"
   ]
  },
  {
   "cell_type": "code",
   "execution_count": 10,
   "id": "6217bdb1",
   "metadata": {},
   "outputs": [
    {
     "data": {
      "text/html": [
       "<div>\n",
       "<style scoped>\n",
       "    .dataframe tbody tr th:only-of-type {\n",
       "        vertical-align: middle;\n",
       "    }\n",
       "\n",
       "    .dataframe tbody tr th {\n",
       "        vertical-align: top;\n",
       "    }\n",
       "\n",
       "    .dataframe thead th {\n",
       "        text-align: right;\n",
       "    }\n",
       "</style>\n",
       "<table border=\"1\" class=\"dataframe\">\n",
       "  <thead>\n",
       "    <tr style=\"text-align: right;\">\n",
       "      <th></th>\n",
       "      <th>id</th>\n",
       "      <th>username</th>\n",
       "      <th>date_joined</th>\n",
       "    </tr>\n",
       "  </thead>\n",
       "  <tbody>\n",
       "    <tr>\n",
       "      <th>97</th>\n",
       "      <td>1050</td>\n",
       "      <td>nsosabndsi</td>\n",
       "      <td>2022-02-01 21:02:59</td>\n",
       "    </tr>\n",
       "    <tr>\n",
       "      <th>98</th>\n",
       "      <td>1076</td>\n",
       "      <td>SbsdSaobdox</td>\n",
       "      <td>2022-02-02 19:31:21</td>\n",
       "    </tr>\n",
       "    <tr>\n",
       "      <th>99</th>\n",
       "      <td>1090</td>\n",
       "      <td>Addb</td>\n",
       "      <td>2022-02-03 13:14:15</td>\n",
       "    </tr>\n",
       "  </tbody>\n",
       "</table>\n",
       "</div>"
      ],
      "text/plain": [
       "      id     username          date_joined\n",
       "97  1050   nsosabndsi  2022-02-01 21:02:59\n",
       "98  1076  SbsdSaobdox  2022-02-02 19:31:21\n",
       "99  1090         Addb  2022-02-03 13:14:15"
      ]
     },
     "execution_count": 10,
     "metadata": {},
     "output_type": "execute_result"
    }
   ],
   "source": [
    "df1 = df.tail(3)\n",
    "df1"
   ]
  },
  {
   "cell_type": "markdown",
   "id": "825f42ca",
   "metadata": {},
   "source": [
    "Загрузите этот файл в датафрейм Pandas (с именем df). Однако, будьте осторожны - перед отправкой кода на проверку посмотрите на свой результат и убедитесь, что вы все загрузили корректно.\n",
    "А затем сформируйте словарь params, который будет содержать информацию о датафрейме:\n",
    "список имен столбцов\n",
    "размер датафрейма\n",
    "форма датафрейма"
   ]
  },
  {
   "cell_type": "code",
   "execution_count": 11,
   "id": "9ba262ee",
   "metadata": {},
   "outputs": [],
   "source": [
    "df2 = df.copy()\n"
   ]
  },
  {
   "cell_type": "code",
   "execution_count": 12,
   "id": "cbae82ff",
   "metadata": {},
   "outputs": [
    {
     "data": {
      "text/plain": [
       "(100, 3)"
      ]
     },
     "execution_count": 12,
     "metadata": {},
     "output_type": "execute_result"
    }
   ],
   "source": [
    "df2.shape"
   ]
  },
  {
   "cell_type": "code",
   "execution_count": 13,
   "id": "8e2d81bf",
   "metadata": {},
   "outputs": [
    {
     "data": {
      "text/plain": [
       "300"
      ]
     },
     "execution_count": 13,
     "metadata": {},
     "output_type": "execute_result"
    }
   ],
   "source": [
    "df2.size"
   ]
  },
  {
   "cell_type": "code",
   "execution_count": 14,
   "id": "37353199",
   "metadata": {},
   "outputs": [
    {
     "data": {
      "text/plain": [
       "{'Имена столбцов': ['id', 'username', 'date_joined'],\n",
       " 'Размер': 300,\n",
       " 'Форма': (100, 3)}"
      ]
     },
     "execution_count": 14,
     "metadata": {},
     "output_type": "execute_result"
    }
   ],
   "source": [
    "params = {\n",
    "\t'Имена столбцов' : df2.columns.tolist(),\n",
    "\t'Размер' : df2.size,\n",
    "\t'Форма' : df2.shape\n",
    "}\n",
    "\n",
    "params"
   ]
  },
  {
   "cell_type": "markdown",
   "id": "8f79b937",
   "metadata": {},
   "source": [
    "Создайте переменную are_types_equal, в которую запишите результат сравнения типа данных у столбцов username и date_joined."
   ]
  },
  {
   "cell_type": "code",
   "execution_count": 15,
   "id": "16812bbe",
   "metadata": {},
   "outputs": [],
   "source": [
    "df3 = df2.copy()"
   ]
  },
  {
   "cell_type": "code",
   "execution_count": 16,
   "id": "b0c3ec22",
   "metadata": {},
   "outputs": [
    {
     "data": {
      "text/plain": [
       "id              int64\n",
       "username       object\n",
       "date_joined    object\n",
       "dtype: object"
      ]
     },
     "execution_count": 16,
     "metadata": {},
     "output_type": "execute_result"
    }
   ],
   "source": [
    "df3.dtypes"
   ]
  },
  {
   "cell_type": "code",
   "execution_count": 17,
   "id": "23ca79c0",
   "metadata": {},
   "outputs": [
    {
     "data": {
      "text/plain": [
       "True"
      ]
     },
     "execution_count": 17,
     "metadata": {},
     "output_type": "execute_result"
    }
   ],
   "source": [
    "if df3['username'].dtype == df3['date_joined'].dtype:\n",
    "\tare_types_equal = True\n",
    "else:\n",
    "\tare_types_equal = False\n",
    "\n",
    "are_types_equal\n"
   ]
  },
  {
   "cell_type": "markdown",
   "id": "3069a939",
   "metadata": {},
   "source": [
    "Создайте (или переопределите) переменную df таким образом, чтобы она содержала столбцы с названиями:\n",
    "user_id (ранее - id)\n",
    "created_at (ранее - date_joined)\n",
    "login (ранее - username)\n",
    "Столбцы должны идти в заданном порядке и иметь именно такие названия."
   ]
  },
  {
   "cell_type": "code",
   "execution_count": 18,
   "id": "6ffa76ec",
   "metadata": {},
   "outputs": [],
   "source": [
    "df4 = df.copy()\n",
    "\n",
    "df4 = df4.rename(columns={'id' : 'user_id', 'date_joined' : 'created_at','username' : 'login'})"
   ]
  },
  {
   "cell_type": "code",
   "execution_count": 19,
   "id": "dff8d9ee",
   "metadata": {},
   "outputs": [
    {
     "data": {
      "text/html": [
       "<div>\n",
       "<style scoped>\n",
       "    .dataframe tbody tr th:only-of-type {\n",
       "        vertical-align: middle;\n",
       "    }\n",
       "\n",
       "    .dataframe tbody tr th {\n",
       "        vertical-align: top;\n",
       "    }\n",
       "\n",
       "    .dataframe thead th {\n",
       "        text-align: right;\n",
       "    }\n",
       "</style>\n",
       "<table border=\"1\" class=\"dataframe\">\n",
       "  <thead>\n",
       "    <tr style=\"text-align: right;\">\n",
       "      <th></th>\n",
       "      <th>user_id</th>\n",
       "      <th>created_at</th>\n",
       "      <th>login</th>\n",
       "    </tr>\n",
       "  </thead>\n",
       "  <tbody>\n",
       "    <tr>\n",
       "      <th>0</th>\n",
       "      <td>416</td>\n",
       "      <td>2022-01-02 12:22:43</td>\n",
       "      <td>nsosabisfsobm</td>\n",
       "    </tr>\n",
       "    <tr>\n",
       "      <th>1</th>\n",
       "      <td>43</td>\n",
       "      <td>2021-07-01 09:11:42</td>\n",
       "      <td>NbabnnbTona</td>\n",
       "    </tr>\n",
       "    <tr>\n",
       "      <th>2</th>\n",
       "      <td>50</td>\n",
       "      <td>2021-08-04 09:01:56</td>\n",
       "      <td>jbdn</td>\n",
       "    </tr>\n",
       "    <tr>\n",
       "      <th>3</th>\n",
       "      <td>249</td>\n",
       "      <td>2021-11-27 07:03:35</td>\n",
       "      <td>Kbaoxsnb</td>\n",
       "    </tr>\n",
       "    <tr>\n",
       "      <th>4</th>\n",
       "      <td>77</td>\n",
       "      <td>2021-11-09 14:31:46</td>\n",
       "      <td>bxakbasmo$$$</td>\n",
       "    </tr>\n",
       "    <tr>\n",
       "      <th>...</th>\n",
       "      <td>...</td>\n",
       "      <td>...</td>\n",
       "      <td>...</td>\n",
       "    </tr>\n",
       "    <tr>\n",
       "      <th>95</th>\n",
       "      <td>946</td>\n",
       "      <td>2022-01-29 18:04:23</td>\n",
       "      <td>Mbbn$xb$eo</td>\n",
       "    </tr>\n",
       "    <tr>\n",
       "      <th>96</th>\n",
       "      <td>947</td>\n",
       "      <td>2022-01-29 18:31:26</td>\n",
       "      <td>NaN</td>\n",
       "    </tr>\n",
       "    <tr>\n",
       "      <th>97</th>\n",
       "      <td>1050</td>\n",
       "      <td>2022-02-01 21:02:59</td>\n",
       "      <td>nsosabndsi</td>\n",
       "    </tr>\n",
       "    <tr>\n",
       "      <th>98</th>\n",
       "      <td>1076</td>\n",
       "      <td>2022-02-02 19:31:21</td>\n",
       "      <td>SbsdSaobdox</td>\n",
       "    </tr>\n",
       "    <tr>\n",
       "      <th>99</th>\n",
       "      <td>1090</td>\n",
       "      <td>2022-02-03 13:14:15</td>\n",
       "      <td>Addb</td>\n",
       "    </tr>\n",
       "  </tbody>\n",
       "</table>\n",
       "<p>100 rows × 3 columns</p>\n",
       "</div>"
      ],
      "text/plain": [
       "    user_id           created_at          login\n",
       "0       416  2022-01-02 12:22:43  nsosabisfsobm\n",
       "1        43  2021-07-01 09:11:42    NbabnnbTona\n",
       "2        50  2021-08-04 09:01:56           jbdn\n",
       "3       249  2021-11-27 07:03:35       Kbaoxsnb\n",
       "4        77  2021-11-09 14:31:46   bxakbasmo$$$\n",
       "..      ...                  ...            ...\n",
       "95      946  2022-01-29 18:04:23     Mbbn$xb$eo\n",
       "96      947  2022-01-29 18:31:26            NaN\n",
       "97     1050  2022-02-01 21:02:59     nsosabndsi\n",
       "98     1076  2022-02-02 19:31:21    SbsdSaobdox\n",
       "99     1090  2022-02-03 13:14:15           Addb\n",
       "\n",
       "[100 rows x 3 columns]"
      ]
     },
     "execution_count": 19,
     "metadata": {},
     "output_type": "execute_result"
    }
   ],
   "source": [
    "df4 = df4[['user_id', 'created_at', 'login']]\n",
    "df4"
   ]
  },
  {
   "cell_type": "markdown",
   "id": "09cd65cc",
   "metadata": {},
   "source": [
    "При выгрузке данных с нашего сервера произошли небольшие сбои, которые мы не успели пофиксить:\n",
    "У некоторых имен пользователей в разные места логина добавились значки долларов.\n",
    "Некоторые имена пользователей не прогрузились вообще."
   ]
  },
  {
   "cell_type": "code",
   "execution_count": 20,
   "id": "4684b30b",
   "metadata": {},
   "outputs": [],
   "source": [
    "df5 = df.copy()"
   ]
  },
  {
   "cell_type": "code",
   "execution_count": 21,
   "id": "7ad0d16a",
   "metadata": {},
   "outputs": [],
   "source": [
    "df5 = df5.dropna()"
   ]
  },
  {
   "cell_type": "code",
   "execution_count": 22,
   "id": "3f4bde5a",
   "metadata": {},
   "outputs": [
    {
     "data": {
      "text/html": [
       "<div>\n",
       "<style scoped>\n",
       "    .dataframe tbody tr th:only-of-type {\n",
       "        vertical-align: middle;\n",
       "    }\n",
       "\n",
       "    .dataframe tbody tr th {\n",
       "        vertical-align: top;\n",
       "    }\n",
       "\n",
       "    .dataframe thead th {\n",
       "        text-align: right;\n",
       "    }\n",
       "</style>\n",
       "<table border=\"1\" class=\"dataframe\">\n",
       "  <thead>\n",
       "    <tr style=\"text-align: right;\">\n",
       "      <th></th>\n",
       "      <th>id</th>\n",
       "      <th>username</th>\n",
       "      <th>date_joined</th>\n",
       "    </tr>\n",
       "  </thead>\n",
       "  <tbody>\n",
       "    <tr>\n",
       "      <th>0</th>\n",
       "      <td>416</td>\n",
       "      <td>nsosabisfsobm</td>\n",
       "      <td>2022-01-02 12:22:43</td>\n",
       "    </tr>\n",
       "    <tr>\n",
       "      <th>1</th>\n",
       "      <td>43</td>\n",
       "      <td>NbabnnbTona</td>\n",
       "      <td>2021-07-01 09:11:42</td>\n",
       "    </tr>\n",
       "    <tr>\n",
       "      <th>2</th>\n",
       "      <td>50</td>\n",
       "      <td>jbdn</td>\n",
       "      <td>2021-08-04 09:01:56</td>\n",
       "    </tr>\n",
       "    <tr>\n",
       "      <th>3</th>\n",
       "      <td>249</td>\n",
       "      <td>Kbaoxsnb</td>\n",
       "      <td>2021-11-27 07:03:35</td>\n",
       "    </tr>\n",
       "    <tr>\n",
       "      <th>4</th>\n",
       "      <td>77</td>\n",
       "      <td>bxakbasmo</td>\n",
       "      <td>2021-11-09 14:31:46</td>\n",
       "    </tr>\n",
       "    <tr>\n",
       "      <th>...</th>\n",
       "      <td>...</td>\n",
       "      <td>...</td>\n",
       "      <td>...</td>\n",
       "    </tr>\n",
       "    <tr>\n",
       "      <th>94</th>\n",
       "      <td>861</td>\n",
       "      <td>KbaxsnDsnom</td>\n",
       "      <td>2022-01-27 17:02:21</td>\n",
       "    </tr>\n",
       "    <tr>\n",
       "      <th>95</th>\n",
       "      <td>946</td>\n",
       "      <td>Mbbnxbeo</td>\n",
       "      <td>2022-01-29 18:04:23</td>\n",
       "    </tr>\n",
       "    <tr>\n",
       "      <th>97</th>\n",
       "      <td>1050</td>\n",
       "      <td>nsosabndsi</td>\n",
       "      <td>2022-02-01 21:02:59</td>\n",
       "    </tr>\n",
       "    <tr>\n",
       "      <th>98</th>\n",
       "      <td>1076</td>\n",
       "      <td>SbsdSaobdox</td>\n",
       "      <td>2022-02-02 19:31:21</td>\n",
       "    </tr>\n",
       "    <tr>\n",
       "      <th>99</th>\n",
       "      <td>1090</td>\n",
       "      <td>Addb</td>\n",
       "      <td>2022-02-03 13:14:15</td>\n",
       "    </tr>\n",
       "  </tbody>\n",
       "</table>\n",
       "<p>98 rows × 3 columns</p>\n",
       "</div>"
      ],
      "text/plain": [
       "      id       username          date_joined\n",
       "0    416  nsosabisfsobm  2022-01-02 12:22:43\n",
       "1     43    NbabnnbTona  2021-07-01 09:11:42\n",
       "2     50           jbdn  2021-08-04 09:01:56\n",
       "3    249       Kbaoxsnb  2021-11-27 07:03:35\n",
       "4     77      bxakbasmo  2021-11-09 14:31:46\n",
       "..   ...            ...                  ...\n",
       "94   861    KbaxsnDsnom  2022-01-27 17:02:21\n",
       "95   946       Mbbnxbeo  2022-01-29 18:04:23\n",
       "97  1050     nsosabndsi  2022-02-01 21:02:59\n",
       "98  1076    SbsdSaobdox  2022-02-02 19:31:21\n",
       "99  1090           Addb  2022-02-03 13:14:15\n",
       "\n",
       "[98 rows x 3 columns]"
      ]
     },
     "execution_count": 22,
     "metadata": {},
     "output_type": "execute_result"
    }
   ],
   "source": [
    "df5 = df5.replace('\\$', '', regex = True)\n",
    "df5"
   ]
  },
  {
   "cell_type": "markdown",
   "id": "ae4c5cc6",
   "metadata": {},
   "source": [
    "Сформируйте список dates, который будет содержать уникальные даты регистрации пользователей в формате YYYY-MM-DD."
   ]
  },
  {
   "cell_type": "code",
   "execution_count": 23,
   "id": "4992e015",
   "metadata": {},
   "outputs": [],
   "source": [
    "df6 = df.copy()"
   ]
  },
  {
   "cell_type": "code",
   "execution_count": 24,
   "id": "d7551f54",
   "metadata": {},
   "outputs": [
    {
     "data": {
      "text/plain": [
       "['2022-01-02',\n",
       " '2021-07-01',\n",
       " '2021-08-04',\n",
       " '2021-11-27',\n",
       " '2021-11-09',\n",
       " '2021-11-10',\n",
       " '2022-04-06',\n",
       " '2021-11-19',\n",
       " '2022-04-18',\n",
       " '2021-11-24',\n",
       " '2021-11-25',\n",
       " '2021-11-26',\n",
       " '2021-11-28',\n",
       " '2021-11-29',\n",
       " '2021-11-30',\n",
       " '2021-12-01',\n",
       " '2021-12-02',\n",
       " '2021-12-03',\n",
       " '2021-12-04',\n",
       " '2021-12-05',\n",
       " '2021-12-06',\n",
       " '2021-12-08',\n",
       " '2021-12-11',\n",
       " '2021-12-17',\n",
       " '2021-12-18',\n",
       " '2021-12-20',\n",
       " '2021-12-22',\n",
       " '2021-12-24',\n",
       " '2021-12-26',\n",
       " '2021-12-28',\n",
       " '2021-12-29',\n",
       " '2021-12-30',\n",
       " '2022-01-01',\n",
       " '2022-01-04',\n",
       " '2022-01-05',\n",
       " '2022-01-08',\n",
       " '2022-01-09',\n",
       " '2022-01-13',\n",
       " '2022-01-16',\n",
       " '2022-01-17',\n",
       " '2022-01-18',\n",
       " '2022-01-21',\n",
       " '2022-01-22',\n",
       " '2022-01-24',\n",
       " '2022-01-25',\n",
       " '2022-01-26',\n",
       " '2022-01-27',\n",
       " '2022-01-29',\n",
       " '2022-02-01',\n",
       " '2022-02-02',\n",
       " '2022-02-03']"
      ]
     },
     "execution_count": 24,
     "metadata": {},
     "output_type": "execute_result"
    }
   ],
   "source": [
    "dates = []\n",
    "dates = df6['date_joined']\n",
    "dates = pd.to_datetime(dates).dt.strftime('%Y-%m-%d').unique().tolist()\n",
    "\n",
    "dates"
   ]
  },
  {
   "cell_type": "markdown",
   "id": "7ab96932",
   "metadata": {},
   "source": [
    "Загрузите этот файл в датафрейм Pandas (с именем df). Однако, будьте осторожны - перед отправкой кода на проверку посмотрите на свой результат и убедитесь, что вы все загрузили корректно.\n",
    "Создайте словарь registrations_by_weekday, который будет содержать информацию о дне недели и количестве зарегистрированных в этот день пользователей:"
   ]
  },
  {
   "cell_type": "code",
   "execution_count": 25,
   "id": "db2ff7ca",
   "metadata": {},
   "outputs": [
    {
     "data": {
      "text/html": [
       "<div>\n",
       "<style scoped>\n",
       "    .dataframe tbody tr th:only-of-type {\n",
       "        vertical-align: middle;\n",
       "    }\n",
       "\n",
       "    .dataframe tbody tr th {\n",
       "        vertical-align: top;\n",
       "    }\n",
       "\n",
       "    .dataframe thead th {\n",
       "        text-align: right;\n",
       "    }\n",
       "</style>\n",
       "<table border=\"1\" class=\"dataframe\">\n",
       "  <thead>\n",
       "    <tr style=\"text-align: right;\">\n",
       "      <th></th>\n",
       "      <th>weekday</th>\n",
       "      <th>id</th>\n",
       "      <th>username</th>\n",
       "      <th>date_joined</th>\n",
       "    </tr>\n",
       "  </thead>\n",
       "  <tbody>\n",
       "    <tr>\n",
       "      <th>0</th>\n",
       "      <td>Friday</td>\n",
       "      <td>9</td>\n",
       "      <td>9</td>\n",
       "      <td>9</td>\n",
       "    </tr>\n",
       "    <tr>\n",
       "      <th>1</th>\n",
       "      <td>Monday</td>\n",
       "      <td>18</td>\n",
       "      <td>17</td>\n",
       "      <td>18</td>\n",
       "    </tr>\n",
       "    <tr>\n",
       "      <th>2</th>\n",
       "      <td>Saturday</td>\n",
       "      <td>16</td>\n",
       "      <td>15</td>\n",
       "      <td>16</td>\n",
       "    </tr>\n",
       "    <tr>\n",
       "      <th>3</th>\n",
       "      <td>Sunday</td>\n",
       "      <td>11</td>\n",
       "      <td>11</td>\n",
       "      <td>11</td>\n",
       "    </tr>\n",
       "    <tr>\n",
       "      <th>4</th>\n",
       "      <td>Thursday</td>\n",
       "      <td>15</td>\n",
       "      <td>15</td>\n",
       "      <td>15</td>\n",
       "    </tr>\n",
       "    <tr>\n",
       "      <th>5</th>\n",
       "      <td>Tuesday</td>\n",
       "      <td>12</td>\n",
       "      <td>12</td>\n",
       "      <td>12</td>\n",
       "    </tr>\n",
       "    <tr>\n",
       "      <th>6</th>\n",
       "      <td>Wednesday</td>\n",
       "      <td>19</td>\n",
       "      <td>19</td>\n",
       "      <td>19</td>\n",
       "    </tr>\n",
       "  </tbody>\n",
       "</table>\n",
       "</div>"
      ],
      "text/plain": [
       "     weekday  id  username  date_joined\n",
       "0     Friday   9         9            9\n",
       "1     Monday  18        17           18\n",
       "2   Saturday  16        15           16\n",
       "3     Sunday  11        11           11\n",
       "4   Thursday  15        15           15\n",
       "5    Tuesday  12        12           12\n",
       "6  Wednesday  19        19           19"
      ]
     },
     "execution_count": 25,
     "metadata": {},
     "output_type": "execute_result"
    }
   ],
   "source": [
    "df7 = df.copy()\n",
    "df7['weekday'] = pd.to_datetime(df7['date_joined']).dt.day_name()\n",
    "df7 = df7.groupby('weekday').count().reset_index()\n",
    "df7"
   ]
  },
  {
   "cell_type": "code",
   "execution_count": 26,
   "id": "3f1084c5",
   "metadata": {},
   "outputs": [
    {
     "data": {
      "text/html": [
       "<div>\n",
       "<style scoped>\n",
       "    .dataframe tbody tr th:only-of-type {\n",
       "        vertical-align: middle;\n",
       "    }\n",
       "\n",
       "    .dataframe tbody tr th {\n",
       "        vertical-align: top;\n",
       "    }\n",
       "\n",
       "    .dataframe thead th {\n",
       "        text-align: right;\n",
       "    }\n",
       "</style>\n",
       "<table border=\"1\" class=\"dataframe\">\n",
       "  <thead>\n",
       "    <tr style=\"text-align: right;\">\n",
       "      <th></th>\n",
       "      <th>weekday</th>\n",
       "      <th>id</th>\n",
       "      <th>username</th>\n",
       "      <th>date_joined</th>\n",
       "    </tr>\n",
       "  </thead>\n",
       "  <tbody>\n",
       "    <tr>\n",
       "      <th>6</th>\n",
       "      <td>Wednesday</td>\n",
       "      <td>19</td>\n",
       "      <td>19</td>\n",
       "      <td>19</td>\n",
       "    </tr>\n",
       "    <tr>\n",
       "      <th>1</th>\n",
       "      <td>Monday</td>\n",
       "      <td>18</td>\n",
       "      <td>17</td>\n",
       "      <td>18</td>\n",
       "    </tr>\n",
       "    <tr>\n",
       "      <th>2</th>\n",
       "      <td>Saturday</td>\n",
       "      <td>16</td>\n",
       "      <td>15</td>\n",
       "      <td>16</td>\n",
       "    </tr>\n",
       "    <tr>\n",
       "      <th>4</th>\n",
       "      <td>Thursday</td>\n",
       "      <td>15</td>\n",
       "      <td>15</td>\n",
       "      <td>15</td>\n",
       "    </tr>\n",
       "    <tr>\n",
       "      <th>5</th>\n",
       "      <td>Tuesday</td>\n",
       "      <td>12</td>\n",
       "      <td>12</td>\n",
       "      <td>12</td>\n",
       "    </tr>\n",
       "    <tr>\n",
       "      <th>3</th>\n",
       "      <td>Sunday</td>\n",
       "      <td>11</td>\n",
       "      <td>11</td>\n",
       "      <td>11</td>\n",
       "    </tr>\n",
       "    <tr>\n",
       "      <th>0</th>\n",
       "      <td>Friday</td>\n",
       "      <td>9</td>\n",
       "      <td>9</td>\n",
       "      <td>9</td>\n",
       "    </tr>\n",
       "  </tbody>\n",
       "</table>\n",
       "</div>"
      ],
      "text/plain": [
       "     weekday  id  username  date_joined\n",
       "6  Wednesday  19        19           19\n",
       "1     Monday  18        17           18\n",
       "2   Saturday  16        15           16\n",
       "4   Thursday  15        15           15\n",
       "5    Tuesday  12        12           12\n",
       "3     Sunday  11        11           11\n",
       "0     Friday   9         9            9"
      ]
     },
     "execution_count": 26,
     "metadata": {},
     "output_type": "execute_result"
    }
   ],
   "source": [
    "df7 = df7.sort_values('id', ascending=False)\n",
    "df7"
   ]
  },
  {
   "cell_type": "code",
   "execution_count": 27,
   "id": "a5cdd95e",
   "metadata": {},
   "outputs": [
    {
     "data": {
      "text/plain": [
       "{'Wednesday': 19,\n",
       " 'Monday': 18,\n",
       " 'Saturday': 16,\n",
       " 'Thursday': 15,\n",
       " 'Tuesday': 12,\n",
       " 'Sunday': 11,\n",
       " 'Friday': 9}"
      ]
     },
     "execution_count": 27,
     "metadata": {},
     "output_type": "execute_result"
    }
   ],
   "source": [
    "registrations_by_weekday = dict(zip(df7['weekday'], df7['id']))\n",
    "registrations_by_weekday"
   ]
  }
 ],
 "metadata": {
  "kernelspec": {
   "display_name": "myenv",
   "language": "python",
   "name": "python3"
  },
  "language_info": {
   "codemirror_mode": {
    "name": "ipython",
    "version": 3
   },
   "file_extension": ".py",
   "mimetype": "text/x-python",
   "name": "python",
   "nbconvert_exporter": "python",
   "pygments_lexer": "ipython3",
   "version": "3.11.9"
  }
 },
 "nbformat": 4,
 "nbformat_minor": 5
}
